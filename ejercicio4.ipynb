{
 "cells": [
  {
   "cell_type": "code",
   "execution_count": 1,
   "metadata": {},
   "outputs": [
    {
     "name": "stdout",
     "output_type": "stream",
     "text": [
      "                        _id  caudal   cuenca  longitud        nombre\n",
      "0  5c0183c83cb39fc612c78a86   500.0  80600.0    1038.0          tajo\n",
      "1  5c0184183cb39fc612c78a87    24.0    710.0      69.0       bidasoa\n",
      "2  5c0184403cb39fc612c78a88     9.0   1900.0      72.0       nervion\n",
      "3  5c0184673cb39fc612c78a89    11.0    620.0      43.0     ibaizabal\n",
      "4  5c0184a23cb39fc612c78a8a   164.0  56978.0     657.0  guadalquivir\n",
      "5  5c0184c73cb39fc612c78a8b   600.0  86100.0     930.0          ebro\n",
      "6  5c0185133cb39fc612c78a8c   800.0  97299.0     897.0         duero\n",
      "7  5c0185323cb39fc612c78a8d    20.0    463.0      92.0    manzanares\n"
     ]
    }
   ],
   "source": [
    "import pandas as pd\n",
    "import pymongo\n",
    "import matplotlib.pyplot as plt\n",
    "from pymongo import MongoClient\n",
    "con = pymongo.MongoClient('localhost', 27017)\n",
    "db = con.rios\n",
    "rios = db.rios\n",
    "df = pd.DataFrame(list(rios.find()))\n",
    "print(df)"
   ]
  },
  {
   "cell_type": "code",
   "execution_count": null,
   "metadata": {},
   "outputs": [],
   "source": []
  }
 ],
 "metadata": {
  "kernelspec": {
   "display_name": "Python 3",
   "language": "python",
   "name": "python3"
  },
  "language_info": {
   "codemirror_mode": {
    "name": "ipython",
    "version": 3
   },
   "file_extension": ".py",
   "mimetype": "text/x-python",
   "name": "python",
   "nbconvert_exporter": "python",
   "pygments_lexer": "ipython3",
   "version": "3.6.6"
  }
 },
 "nbformat": 4,
 "nbformat_minor": 2
}
