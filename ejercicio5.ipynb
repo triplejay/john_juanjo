{
 "cells": [
  {
   "cell_type": "code",
   "execution_count": 1,
   "metadata": {},
   "outputs": [
    {
     "name": "stdout",
     "output_type": "stream",
     "text": [
      "                                  nombre  demandaPais\n",
      "0  ingeniero de software y desarrollador           24\n",
      "1                  Ingeniero electrónico           19\n",
      "2                     Ingeniero mecánico           19\n",
      "3                             Enfermero            18\n",
      "4                                Médico            16\n",
      "5                        Ingeniero civil           16\n",
      "6                    Ingeniero electrico           16\n",
      "7                      analisis de datos           11\n",
      "8                               contable           11\n",
      "9                 director de ingeniería            9\n"
     ]
    }
   ],
   "source": [
    "import pandas as pd\n",
    "import matplotlib.pyplot as plt\n",
    "import mysql.connector as sql\n",
    "db_connect = sql.connect(host='localhost', database='profesiones', user='john', password='john')\n",
    "df = pd.read_sql('SELECT * FROM profesion', con=db_connect)\n",
    "print(df)"
   ]
  },
  {
   "cell_type": "code",
   "execution_count": null,
   "metadata": {},
   "outputs": [],
   "source": []
  }
 ],
 "metadata": {
  "kernelspec": {
   "display_name": "Python 3",
   "language": "python",
   "name": "python3"
  },
  "language_info": {
   "codemirror_mode": {
    "name": "ipython",
    "version": 3
   },
   "file_extension": ".py",
   "mimetype": "text/x-python",
   "name": "python",
   "nbconvert_exporter": "python",
   "pygments_lexer": "ipython3",
   "version": "3.6.6"
  }
 },
 "nbformat": 4,
 "nbformat_minor": 2
}
